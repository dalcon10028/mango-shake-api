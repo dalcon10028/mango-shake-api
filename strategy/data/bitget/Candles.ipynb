{
 "cells": [
  {
   "metadata": {},
   "cell_type": "markdown",
   "source": [
    "## Install Ktor\n",
    "\n",
    "- ktor-client-core\n",
    "- ktor-client-cio"
   ]
  },
  {
   "metadata": {
    "ExecuteTime": {
     "end_time": "2025-02-12T14:04:12.495312Z",
     "start_time": "2025-02-12T14:04:11.862638Z"
    }
   },
   "cell_type": "code",
   "source": [
    "USE {\n",
    "    val ktorVersion = \"3.1.0\"\n",
    "\n",
    "    repositories {\n",
    "        mavenCentral()\n",
    "    }\n",
    "    dependencies {\n",
    "        implementation(\"io.ktor:ktor-client-core:$ktorVersion\")\n",
    "        implementation(\"io.ktor:ktor-client-cio:$ktorVersion\")\n",
    "    }\n",
    "}"
   ],
   "outputs": [],
   "execution_count": 1
  },
  {
   "metadata": {
    "ExecuteTime": {
     "end_time": "2025-02-12T14:04:19.787795Z",
     "start_time": "2025-02-12T14:04:12.498853Z"
    }
   },
   "cell_type": "code",
   "source": [
    "%use ktor-client\n",
    "%use dataframe"
   ],
   "outputs": [],
   "execution_count": 2
  },
  {
   "metadata": {
    "ExecuteTime": {
     "end_time": "2025-02-12T14:05:13.664562Z",
     "start_time": "2025-02-12T14:05:12.557131Z"
    }
   },
   "cell_type": "code",
   "source": [
    "import io.ktor.client.*\n",
    "import io.ktor.client.engine.cio.*\n",
    "import io.ktor.client.request.*\n",
    "import io.ktor.client.statement.*\n",
    "import kotlinx.coroutines.*\n",
    "import java.time.*\n",
    "import java.math.BigDecimal\n",
    "import java.time.format.DateTimeFormatter\n",
    "\n",
    "val client = HttpClient(CIO)\n",
    "\n",
    "@Serializable\n",
    "data class ApiResponse(\n",
    "    val code: String,\n",
    "    val msg: String,\n",
    "    val requestTime: Long,\n",
    "    val data: List<List<String>>,\n",
    ")\n",
    "\n",
    "data class CandleRecord(\n",
    "    val timestamp: Long,\n",
    "    val open: BigDecimal,\n",
    "    val high: BigDecimal,\n",
    "    val low: BigDecimal,\n",
    "    val close: BigDecimal,\n",
    "    val volume: BigDecimal,\n",
    "    val quote_currency_volume: BigDecimal,\n",
    ")\n",
    "\n",
    "suspend fun fetchCandles(\n",
    "    symbol: String = \"BTCUSDT\",\n",
    "    granularity: String = \"1m\",\n",
    "    startDate: String = LocalDate.now().minusDays(1).format(DateTimeFormatter.ISO_DATE),\n",
    "    endDate: String = LocalDate.now().format(DateTimeFormatter.ISO_DATE),\n",
    "): List<CandleRecord> {\n",
    "    require(startDate < endDate) { \"startDate must be earlier than endDate\" }\n",
    "    require(granularity in setOf(\"1m\", \"5m\", \"15m\", \"30m\", \"1h\", \"4h\", \"1d\", \"1w\", \"1M\")) { \"granularity must be one of 1m, 5m, 15m, 30m, 1h, 4h, 1d, 1w, 1M\" }\n",
    "    require(symbol.isNotBlank()) { \"symbol must not be blank\" }\n",
    "    \n",
    "    suspend fun fetchCandlesChunk(\n",
    "        symbol: String,\n",
    "        granularity: String,\n",
    "        startTime: Long,\n",
    "        endTime: Long,\n",
    "    ): List<CandleRecord> = \"\"\"\n",
    "      https://api.bitget.com/api/v2/mix/market/history-candles?\n",
    "      symbol=$symbol&\n",
    "      granularity=$granularity&\n",
    "      limit=200&\n",
    "      productType=usdt-futures&\n",
    "      startTime=$startTime&\n",
    "      endTime=$endTime\n",
    "      \"\"\".trimIndent()\n",
    "          .let { client.get(it).readBytes().decodeToString() }\n",
    "          .let { Json.decodeFromString<ApiResponse>(it) }\n",
    "          .data.map { row ->\n",
    "              CandleRecord(\n",
    "                  timestamp = row[0].toLong(),\n",
    "                  open = row[1].toBigDecimal(),\n",
    "                  high = row[2].toBigDecimal(),\n",
    "                  low = row[3].toBigDecimal(),\n",
    "                  close = row[4].toBigDecimal(),\n",
    "                  volume = row[5].toBigDecimal(),\n",
    "                  quote_currency_volume = row[6].toBigDecimal(),\n",
    "              )\n",
    "          }\n",
    "    \n",
    "    val startMillis = LocalDate.parse(startDate).atStartOfDay().toInstant(ZoneOffset.UTC).toEpochMilli()\n",
    "    val endMillis = LocalDate.parse(endDate).plusDays(1).atStartOfDay().toInstant(ZoneOffset.UTC).toEpochMilli()\n",
    "\n",
    "    val results = mutableListOf<CandleRecord>()\n",
    "    var currentStart = startMillis\n",
    "\n",
    "    while (currentStart < endMillis) {\n",
    "        // 현재 구간 호출: startTime = currentStart, endTime = 전역 endMillis\n",
    "        val chunk = fetchCandlesChunk(\n",
    "            symbol = symbol,\n",
    "            granularity = granularity,\n",
    "            startTime = currentStart,\n",
    "            endTime = endMillis,\n",
    "        )\n",
    "\n",
    "        if (chunk.isEmpty()) break\n",
    "\n",
    "        results.addAll(chunk)\n",
    "\n",
    "        // 반환된 건수가 limit 미만이면 더 이상 데이터가 없다고 가정\n",
    "        if (chunk.size < 200) break\n",
    "\n",
    "        // 다음 호출을 위한 시작시간: 마지막 캔들의 timestamp + 1ms\n",
    "        val lastTimestamp = chunk.last().timestamp\n",
    "        if (lastTimestamp < currentStart) break  // 무한 루프 방지\n",
    "        currentStart = lastTimestamp + 1\n",
    "    }\n",
    "    \n",
    "    return results\n",
    "}"
   ],
   "outputs": [],
   "execution_count": 4
  },
  {
   "metadata": {
    "ExecuteTime": {
     "end_time": "2025-02-12T14:15:16.863445Z",
     "start_time": "2025-02-12T14:15:16.341793Z"
    }
   },
   "cell_type": "code",
   "source": [
    "import java.time.*\n",
    "import java.time.Instant\n",
    "\n",
    "val startDate = \"2025-02-11\"\n",
    "val endDate = \"2025-02-12\"\n",
    "\n",
    "val df = runBlocking {\n",
    "    fetchCandles(\n",
    "        symbol = \"BTCUSDT\",\n",
    "        granularity = \"1m\",\n",
    "        startDate = startDate,\n",
    "        endDate = endDate\n",
    "    )\n",
    "        .toDataFrame<CandleRecord>()\n",
    "        .let {\n",
    "            it.insert(\"time\") {\n",
    "                Instant.ofEpochMilli(\"timestamp\"<Long>())\n",
    "                    .atZone(ZoneOffset.UTC).toLocalDateTime()\n",
    "            }.after(\"timestamp\")\n",
    "        }\n",
    "}"
   ],
   "outputs": [],
   "execution_count": 17
  },
  {
   "metadata": {
    "ExecuteTime": {
     "end_time": "2025-02-12T14:17:46.769553Z",
     "start_time": "2025-02-12T14:17:46.655410Z"
    }
   },
   "cell_type": "code",
   "source": "df.writeCSV(\"candles_1m_${startDate}_$endDate.csv\")",
   "outputs": [],
   "execution_count": 20
  },
  {
   "metadata": {},
   "cell_type": "code",
   "outputs": [],
   "execution_count": null,
   "source": ""
  }
 ],
 "metadata": {
  "kernelspec": {
   "display_name": "Kotlin",
   "language": "kotlin",
   "name": "kotlin"
  },
  "language_info": {
   "name": "kotlin",
   "version": "1.9.23",
   "mimetype": "text/x-kotlin",
   "file_extension": ".kt",
   "pygments_lexer": "kotlin",
   "codemirror_mode": "text/x-kotlin",
   "nbconvert_exporter": ""
  }
 },
 "nbformat": 4,
 "nbformat_minor": 0
}
