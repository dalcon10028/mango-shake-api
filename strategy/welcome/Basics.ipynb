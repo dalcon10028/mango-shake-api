{
 "cells": [
  {
   "cell_type": "code",
   "metadata": {
    "collapsed": true,
    "ExecuteTime": {
     "end_time": "2025-02-12T03:39:44.879011Z",
     "start_time": "2025-02-12T03:39:44.793336Z"
    }
   },
   "source": "2 + 2",
   "outputs": [
    {
     "data": {
      "text/plain": [
       "4"
      ]
     },
     "execution_count": 2,
     "metadata": {},
     "output_type": "execute_result"
    }
   ],
   "execution_count": 2
  },
  {
   "metadata": {
    "ExecuteTime": {
     "end_time": "2025-02-12T03:40:05.195642Z",
     "start_time": "2025-02-12T03:40:05.137306Z"
    }
   },
   "cell_type": "code",
   "source": [
    "val result = 3 * 14\n",
    "\n",
    "result    "
   ],
   "outputs": [
    {
     "data": {
      "text/plain": [
       "42"
      ]
     },
     "execution_count": 4,
     "metadata": {},
     "output_type": "execute_result"
    }
   ],
   "execution_count": 4
  },
  {
   "metadata": {
    "ExecuteTime": {
     "end_time": "2025-02-12T03:41:25.036474Z",
     "start_time": "2025-02-12T03:41:24.946783Z"
    }
   },
   "cell_type": "code",
   "source": [
    "HTML(\"\"\"\n",
    "    <p>Counter: <span id=\"ctr\">0</span> <button onclick=\"inc()\">Increment</button></p>\n",
    "    <script>\n",
    "      function inc() {\n",
    "        let counter = document.getElementById(\"ctr\")\n",
    "        counter.innerHTML = parseInt(counter.innerHTML) + 1;\n",
    "      }\n",
    "    </script>\n",
    "\"\"\")"
   ],
   "outputs": [
    {
     "data": {
      "text/html": [
       "\n",
       "    <p>Counter: <span id=\"ctr\">0</span> <button onclick=\"inc()\">Increment</button></p>\n",
       "    <script>\n",
       "      function inc() {\n",
       "        let counter = document.getElementById(\"ctr\")\n",
       "        counter.innerHTML = parseInt(counter.innerHTML) + 1;\n",
       "      }\n",
       "    </script>\n"
      ]
     },
     "execution_count": 10,
     "metadata": {},
     "output_type": "execute_result"
    }
   ],
   "execution_count": 10
  },
  {
   "metadata": {
    "ExecuteTime": {
     "end_time": "2025-02-12T03:48:45.903682Z",
     "start_time": "2025-02-12T03:48:37.809797Z"
    }
   },
   "cell_type": "code",
   "source": [
    "%use lib-ext(0.11.0-398)\n",
    "\n",
    "val kotlinMascot = Image(\"https://blog.jetbrains.com/wp-content/uploads/2023/04/DSGN-16174-Blog-post-banner-and-promo-materials-for-post-about-Kotlin-mascot_3.png\").withWidth(400)\n",
    "\n",
    "DISPLAY(HTML(\"<h2>Kodee is back!</h2>\"))\n",
    "kotlinMascot"
   ],
   "outputs": [
    {
     "data": {
      "text/html": [
       "<h2>Kodee is back!</h2>"
      ]
     },
     "metadata": {},
     "output_type": "display_data"
    },
    {
     "data": {
      "text/html": [
       "<img src=\"https://blog.jetbrains.com/wp-content/uploads/2023/04/DSGN-16174-Blog-post-banner-and-promo-materials-for-post-about-Kotlin-mascot_3.png\" width=\"400\"/>"
      ]
     },
     "execution_count": 21,
     "metadata": {},
     "output_type": "execute_result"
    }
   ],
   "execution_count": 21
  },
  {
   "metadata": {
    "ExecuteTime": {
     "end_time": "2025-02-12T03:45:38.169793Z",
     "start_time": "2025-02-12T03:45:38.117095Z"
    }
   },
   "cell_type": "code",
   "source": [
    ":help\n",
    "\n"
   ],
   "outputs": [
    {
     "data": {
      "text/plain": [
       "Kotlin Jupyter kernel.\n",
       "Kernel version: 0.12.0.226\n",
       "Kotlin version: 1.9.23\n",
       "JVM version: 21\n",
       "\n",
       "Commands:\n",
       "    :help - display help\n",
       "    :classpath - show current classpath\n",
       "    :vars - get visible variables values\n",
       "\n",
       "Magics:\n",
       "    %use - injects code for supported libraries: artifact resolution, default imports, initialization code, type renderers\n",
       "        Usage: %use klaxon(5.5), lets-plot\n",
       "    %trackClasspath - logs any changes of current classpath. Useful for debugging artifact resolution failures\n",
       "        Usage: %trackClasspath [on|off]\n",
       "    %trackExecution - logs pieces of code that are going to be executed. Useful for debugging of libraries support\n",
       "        Usage: %trackExecution [all|generated|off]\n",
       "    %useLatestDescriptors - use latest versions of library descriptors available. By default, bundled descriptors are used. Note that default behavior is preferred: latest descriptors versions might be not supported by current version of kernel. So if you care about stability of the notebook, avoid using this line magic\n",
       "        Usage: %useLatestDescriptors [on|off]\n",
       "    %output - output capturing settings\n",
       "        Usage: %output --max-cell-size=1000 --no-stdout --max-time=100 --max-buffer=400\n",
       "    %logLevel - set logging level\n",
       "        Usage: %logLevel [off|error|warn|info|debug]\n",
       "\n",
       "Supported libraries:\n",
       "    kotlin-statistics (https://github.com/thomasnield/kotlin-statistics) - Idiomatic statistical operators for Kotlin\n",
       "    kandy (https://github.com/Kotlin/kandy) - Kotlin plotting DSL for Lets-Plot\n",
       "    fuel (https://github.com/kittinunf/fuel) - HTTP networking library\n",
       "    deeplearning4j-cuda (https://github.com/eclipse/deeplearning4j) - Deep learning library for the JVM (CUDA support)\n",
       "    jdsp (https://github.com/psambit9791/jDSP) - Java library for signal processing\n",
       "    lets-plot-gt (https://github.com/JetBrains/lets-plot-kotlin) - Lets-Plot visualisation for GeoTools toolkit\n",
       "    serialization (https://github.com/Kotlin/kotlin-jupyter-http-util) - Deserialize JSON content using kotlinx.serialization and automatically generate classes for it\n",
       "    dataframe (https://github.com/Kotlin/dataframe) - Kotlin framework for structured data processing\n",
       "    coroutines (https://github.com/Kotlin/kotlinx.coroutines) - Asynchronous programming and reactive streams support\n",
       "    deeplearning4j (https://github.com/eclipse/deeplearning4j) - Deep learning library for the JVM\n",
       "    khttp (https://github.com/jkcclemens/khttp) - HTTP networking library\n",
       "    gradle-enterprise-api-kotlin (https://github.com/gabrielfeo/gradle-enterprise-api-kotlin) - [Deprecated: use develocity-api-kotlin] A library to use the Gradle Enterprise API in Kotlin scripts or projects\n",
       "    spark-streaming (https://github.com/JetBrains/kotlin-spark-api) - Kotlin API for Apache Spark Streaming: scalable, high-throughput, fault-tolerant stream processing of live data streams\n",
       "    exposed (https://github.com/JetBrains/Exposed) - Kotlin SQL framework\n",
       "    lets-plot (https://github.com/JetBrains/lets-plot-kotlin) - Kotlin API for Lets-Plot: multiplatform plotting library based on Grammar of Graphics\n",
       "    webtau (https://github.com/testingisdocumenting/webtau) - WebTau end-to-end testing across layers\n",
       "    kt-math (https://github.com/gciatto/kt-math) - Kotlin multi-platform port of java.math.*\n",
       "    combinatoricskt (https://github.com/shiguruikai/combinatoricskt) - A combinatorics library for Kotlin\n",
       "    rdkit (https://www.rdkit.org/) - Open-Source Cheminformatics Software\n",
       "    klaxon (https://github.com/cbeust/klaxon) - JSON parser for Kotlin\n",
       "    mysql (https://github.com/mysql/mysql-connector-j) - MySql JDBC Connector\n",
       "    multik (https://github.com/Kotlin/multik) - Multidimensional array library for Kotlin\n",
       "    default - Default imports: dataframe and Kandy libraries\n",
       "    biokotlin (https://github.com/maize-genetics/BioKotlin) - BioKotlin aims to be a high-performance bioinformatics library that brings the power and speed of compiled programming languages to scripting and big data environments.\n",
       "    plotly (https://github.com/mipt-npm/plotly.kt) - [beta] Plotly.kt jupyter integration for static plots.\n",
       "    openai (https://openai.com/blog/chatgpt) - OpenAI API for Jupyter Notebooks\n",
       "    gral (https://github.com/eseifert/gral) - Java library for displaying plots\n",
       "    kravis (https://github.com/holgerbrandl/kravis) - Kotlin grammar for data visualization\n",
       "    kalasim (https://www.kalasim.org) - Discrete event simulator\n",
       "    kotlin-dl (https://github.com/Kotlin/kotlindl) - KotlinDL library which provides Keras-like API for deep learning\n",
       "    jupyter-js (https://github.com/yidafu/kotlin-jupyter-js) - Experimental `%javascript`/`%typescript`/`%jsx` line magic support\n",
       "    develocity-api-kotlin (https://github.com/gabrielfeo/develocity-api-kotlin) - A library to use the Develocity API in Kotlin scripts or projects\n",
       "    reflection (https://kotlinlang.org/docs/reflection.html) - Imports for Kotlin Reflection\n",
       "    kandy-echarts (https://github.com/Kotlin/kandy) - Kotlin plotting DSL for Apache ECharts\n",
       "    londogard-nlp-toolkit (https://github.com/londogard/londogard-nlp-toolkit) - A Natural Language Processing (NLP) toolkit for Kotlin on the JVM\n",
       "    datetime (https://github.com/Kotlin/kotlinx-datetime) - Kotlin date/time library\n",
       "    kaliningraph (https://github.com/breandan/kaliningraph) - Graph library with a DSL for constructing graphs and visualizing the behavior of graph algorithms\n",
       "    ktor-client (https://github.com/Kotlin/kotlin-jupyter-http-util) - Asynchronous HTTP client\n",
       "    smile (https://github.com/haifengl/smile) - Statistical Machine Intelligence and Learning Engine\n",
       "    plotly-server (https://github.com/mipt-npm/plotly.kt) - [beta] Plotly.kt jupyter integration for dynamic plots.\n",
       "    spark (https://github.com/JetBrains/kotlin-spark-api) - Kotlin API for Apache Spark: unified analytics engine for large-scale data processing\n",
       "    krangl (https://github.com/holgerbrandl/krangl) - Kotlin DSL for data wrangling\n",
       "    lib-ext (https://github.com/Kotlin/kotlin-jupyter) - Extended functionality for Jupyter kernel\n",
       "    2p-kt (https://github.com/gciatto/kt-math) - Kotlin Multi-Platform ecosystem for symbolic AI\n",
       "    kmath (https://github.com/mipt-npm/kmath) - Experimental Kotlin algebra-based mathematical library\n",
       "    kraphviz (https://github.com/nidi3/graphviz-java) - Graphviz wrapper for JVM\n",
       "    roboquant (https://roboquant.org) - Algorithmic trading platform written in Kotlin"
      ]
     },
     "execution_count": 15,
     "metadata": {},
     "output_type": "execute_result"
    }
   ],
   "execution_count": 15
  },
  {
   "metadata": {
    "ExecuteTime": {
     "end_time": "2025-02-12T03:46:10.578479Z",
     "start_time": "2025-02-12T03:46:10.021914Z"
    }
   },
   "cell_type": "code",
   "source": [
    "%use serialization\n",
    "\n",
    "import kotlinx.serialization.Serializable\n",
    "\n",
    "@Serializable\n",
    "class User(val firstName: String, val lastName: String)\n",
    "\n",
    "val bob = User(\"Alex\", \"Green\")\n",
    "\n",
    "Json { prettyPrint = true }.encodeToString(bob)"
   ],
   "outputs": [
    {
     "data": {
      "application/json": {
       "firstName": "Alex",
       "lastName": "Green"
      },
      "text/plain": [
       "{\n",
       "    \"firstName\": \"Alex\",\n",
       "    \"lastName\": \"Green\"\n",
       "}"
      ],
      "text/markdown": "```json\n{\n    \"firstName\": \"Alex\",\n    \"lastName\": \"Green\"\n}\n```"
     },
     "execution_count": 19,
     "metadata": {
      "application/json": {
       "expanded": true
      }
     },
     "output_type": "execute_result"
    }
   ],
   "execution_count": 19
  },
  {
   "metadata": {
    "ExecuteTime": {
     "end_time": "2025-02-12T03:46:50.747168Z",
     "start_time": "2025-02-12T03:46:31.003244Z"
    }
   },
   "cell_type": "code",
   "source": [
    "USE {\n",
    "    repositories {\n",
    "        // Any additional repositories. Maven central is already included\n",
    "        // maven(\"<url>\")\n",
    "    }\n",
    "    dependencies {\n",
    "        // Here we add kandy plotting library\n",
    "        implementation(\"org.jetbrains.kotlinx:kandy-lets-plot:0.4.3\")\n",
    "    }\n",
    "\n",
    "    // Sometimes library integration are loaded transitively and you don't want them to do it.\n",
    "    discardIntegrationTypeNameIf {\n",
    "        it.startsWith(\"org.jetbrains.kotlinx.dataframe.\")\n",
    "    }\n",
    "}\n",
    "\n"
   ],
   "outputs": [
    {
     "data": {
      "text/plain": []
     },
     "metadata": {},
     "output_type": "display_data"
    },
    {
     "data": {
      "text/html": [
       "            <div id=\"kotlin_out_0\"></div>\n",
       "            <script type=\"text/javascript\">\n",
       "                            if(!window.kotlinQueues) {\n",
       "                window.kotlinQueues = {};\n",
       "            }\n",
       "            if(!window.kotlinQueues[\"kandyLetsPlot\"]) {\n",
       "                var resQueue = [];\n",
       "                window.kotlinQueues[\"kandyLetsPlot\"] = resQueue;\n",
       "                window[\"call_kandyLetsPlot\"] = function(f) {\n",
       "                    resQueue.push(f);\n",
       "                }\n",
       "            }\n",
       "            (function (){\n",
       "                var modifiers = [(function(script) {\n",
       "    script.src = \"https://cdn.jsdelivr.net/gh/JetBrains/lets-plot@v3.1.0/js-package/distr/lets-plot.min.js\"\n",
       "    script.type = \"text/javascript\";\n",
       "})];\n",
       "                var e = document.getElementById(\"kotlin_out_0\");\n",
       "                modifiers.forEach(function (gen) {\n",
       "                    var script = document.createElement(\"script\");\n",
       "                    gen(script)\n",
       "                    script.addEventListener(\"load\", function() {\n",
       "                        window[\"call_kandyLetsPlot\"] = function(f) {f();};\n",
       "                        window.kotlinQueues[\"kandyLetsPlot\"].forEach(function(f) {f();});\n",
       "                        window.kotlinQueues[\"kandyLetsPlot\"] = [];\n",
       "                    }, false);\n",
       "                    script.addEventListener(\"error\", function() {\n",
       "                        window[\"call_kandyLetsPlot\"] = function(f) {};\n",
       "                        window.kotlinQueues[\"kandyLetsPlot\"] = [];\n",
       "                        var div = document.createElement(\"div\");\n",
       "                        div.style.color = 'darkred';\n",
       "                        div.textContent = 'Error loading resource kandyLetsPlot';\n",
       "                        document.getElementById(\"kotlin_out_0\").appendChild(div);\n",
       "                    }, false);\n",
       "                    \n",
       "                    e.appendChild(script);\n",
       "                });\n",
       "            })();\n",
       "            </script>"
      ]
     },
     "metadata": {},
     "output_type": "display_data"
    }
   ],
   "execution_count": 20
  },
  {
   "metadata": {},
   "cell_type": "code",
   "outputs": [],
   "execution_count": null,
   "source": ""
  }
 ],
 "metadata": {
  "kernelspec": {
   "display_name": "Kotlin",
   "language": "kotlin",
   "name": "kotlin"
  },
  "language_info": {
   "name": "kotlin",
   "version": "1.9.23",
   "mimetype": "text/x-kotlin",
   "file_extension": ".kt",
   "pygments_lexer": "kotlin",
   "codemirror_mode": "text/x-kotlin",
   "nbconvert_exporter": ""
  }
 },
 "nbformat": 4,
 "nbformat_minor": 0
}
